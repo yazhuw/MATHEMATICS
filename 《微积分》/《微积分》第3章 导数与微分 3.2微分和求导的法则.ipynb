{
 "cells": [
  {
   "cell_type": "markdown",
   "metadata": {},
   "source": [
    "导数的基本公式\n",
    "\n",
    "PPT P54-56\n",
    "\n",
    "记住：\n",
    "\n",
    "$$(x^n)'= nx^{n-1}$$\n",
    "$$(a^x)'= a^xlna$$\n",
    "$$(e^x)'= e^x$$\n",
    "$$(log_ax)'= \\frac{1}{xlna}$$\n",
    "$$(lnx)'= \\frac{1}{x}$$\n",
    "\n",
    "$$(sinx)'= cosx$$\n",
    "$$(cosx)'= -sinx$$\n",
    "$$(tanx)'= sec^2x$$\n",
    "$$(cotx)'= -csc^2x$$\n",
    "$$(secx)'= secxtanx$$\n",
    "$$(cscx)'= -cscxcotx$$\n",
    "\n",
    "$$(\\sqrt{x})'=\\frac{1}{2\\sqrt{x}}$$\n",
    "$$(\\frac{1}{x})'=-\\frac{1}{x^2}$$"
   ]
  },
  {
   "cell_type": "markdown",
   "metadata": {},
   "source": [
    "#### 3.2.1 函数的和、差、积、商的微分与求导法则\n",
    "\n",
    "记住：\n",
    "\n",
    "$$[u(x)+v(x)]'=u'(x)+v'(x)$$\n",
    "\n",
    "$$[u(x)-v(x)]'=u'(x)-v'(x)$$\n",
    "\n",
    "$$[u(x)v(x)]'=u'(x)v(x)+u(x)v'(x)$$\n",
    "\n",
    "$$[u(x)v(x)w(x)]'=u'(x)v(x)w(x)+u(x)v'(x)w(x)+u(x)v(x)w'(x)$$\n",
    "\n",
    "$$[cu(x)]'=cu'(x)$$\n",
    "\n",
    "$$[\\frac{u(x)}{v(x)}]'=\\frac{u'(x)v(x)-u(x)v'(x)}{v^2(x)}$$\n",
    "\n",
    "P60\n",
    "\n",
    "例3.9 求函数f(x)=tanx的导数\n",
    "\n",
    "解：\n",
    "\n",
    "$$(tanx)'$$\n",
    "\n",
    "$$=(\\frac{sinx}{cosx})'$$\n",
    "\n",
    "$$=\\frac{(sinx)'cosx-sinx(cosx)'}{cos^2(x)}$$\n",
    "\n",
    "$$=\\frac{cos^2x+sin^2x}{cos^2(x)}$$\n",
    "\n",
    "$$=\\frac{1}{cos^2(x)}=sec^2(x)$$\n",
    "\n",
    "微分：$sec^2(x)dx$\n",
    "\n",
    "例3.10 求函数f(x)=secx的导数\n",
    "\n",
    "解：\n",
    "\n",
    "$$(secx)'=(\\frac{1}{cosx})'=\\frac{0-(cosx)'}{cos^2x}=\\frac{sinx}{cos^2x}=secxtanx$$\n",
    "\n",
    "微分：$secxtanxdx$"
   ]
  },
  {
   "cell_type": "markdown",
   "metadata": {},
   "source": [
    "PPT P47\n",
    "\n",
    "例7 求函数y=sin2x的导数。\n",
    "\n",
    "解：\n",
    "\n",
    "$$y'=(sin2x)'=(2sinxcosx)'$$\n",
    "$$=2[(sinx)'cosx+sinx(cosx)']$$\n",
    "$$=2[cosxcosx-sinxsinx]$$\n",
    "$$=2[cos^2x-sin^2x]$$\n",
    "$$=2cos2x$$"
   ]
  },
  {
   "cell_type": "markdown",
   "metadata": {},
   "source": [
    "记住：\n",
    "\n",
    "$$sin2x=2sinxcosx$$\n",
    "$$cos2x=cos^2x-sin^2x$$\n",
    "$$secx=\\frac{1}{cosx}$$"
   ]
  },
  {
   "cell_type": "markdown",
   "metadata": {},
   "source": [
    "PPT P48\n",
    "\n",
    "$y=xe^xlnx$，求$f'(x)$,$[f(3)]'$"
   ]
  },
  {
   "cell_type": "code",
   "execution_count": null,
   "metadata": {},
   "outputs": [],
   "source": [
    "#三个函数相乘"
   ]
  },
  {
   "cell_type": "markdown",
   "metadata": {},
   "source": [
    "解：\n",
    "\n",
    "$$f'(x)=(x)'e^xlnx+x(e^x)'lnx+xe^x(lnx)'$$\n",
    "$$=1e^xlnx+xe^xlnx+xe^x\\frac{1}{x}'$$\n",
    "$$=e^xlnx+xe^xlnx+e^x$$\n",
    "$$=e^x(lnx+xlnx+1)$$"
   ]
  },
  {
   "cell_type": "markdown",
   "metadata": {},
   "source": [
    "$$[f(3)]'=e^3(ln3+3ln3+1)$$"
   ]
  },
  {
   "cell_type": "code",
   "execution_count": 1,
   "metadata": {},
   "outputs": [],
   "source": [
    "#不会算，为什么等于0？"
   ]
  },
  {
   "cell_type": "markdown",
   "metadata": {},
   "source": [
    "#### 3.2.2 反函数的微分与求导法则\n",
    "\n",
    "$$ \\frac{dy}{dx}=\\frac{1}{f'(y)}$$\n",
    "\n",
    "#### 3.2.3 复合函数的微分与求导法则\n",
    "\n",
    "$$\\frac{dy}{dx}=\\frac{dy}{du}\\frac{du}{dx}$$\n",
    "\n",
    "P62\n",
    "\n",
    "例3.13 求函数$y=x^\\mu(x>0)$的导数(同PPT P64 例2)\n",
    "\n",
    "解：\n",
    "\n",
    "因为x可以表示为$x=e^{lnx}$，所以函数y可以表示为$y=e^{\\mu lnx}$，它是$y=e^u$和$u=\\mu lnx$的复合函数\n",
    "\n",
    "$$y'=(e^{\\mu lnx})'=e^{\\mu lnx}(\\mu lnx)'=e^{\\mu lnx}\\mu\\frac{1}{x}=x^\\mu\\frac{\\mu}{x}=\\mu x^{\\mu-1}$$\n",
    "\n",
    "微分：$dy=\\mu x^{\\mu-1}dx$"
   ]
  },
  {
   "cell_type": "markdown",
   "metadata": {},
   "source": [
    "PPT P61\n",
    "\n",
    "例1 求下列函数的导数\n",
    "\n",
    "(1)$y=sinx^2$\n",
    "\n",
    "(2)$y=lntanx$"
   ]
  },
  {
   "cell_type": "markdown",
   "metadata": {},
   "source": [
    "解：(1)\n",
    "\n",
    "$$y'=2xcosx^2$$"
   ]
  },
  {
   "cell_type": "markdown",
   "metadata": {},
   "source": [
    "(2)$$y'=\\frac{1}{tanx}sec^2x$$\n",
    "$$=\\frac{1}{cos^2x}\\frac{cosx}{sinx}$$\n",
    "$$=\\frac{1}{sinxcosx}$$"
   ]
  },
  {
   "cell_type": "markdown",
   "metadata": {},
   "source": [
    "PPT P65\n",
    "\n",
    "例3 求函数y=(2x^2+3x+1)^5的导数。\n",
    "\n",
    "解：\n",
    "\n",
    "$$y'=5(2x^2+3x+1)^4(4x+3)$$"
   ]
  },
  {
   "cell_type": "markdown",
   "metadata": {},
   "source": [
    "PPT P67\n",
    "\n",
    "例4 求$y=ln|x|$的导数。\n",
    "\n",
    "解：$$y=ln|x|=\n",
    "\\begin{cases}\n",
    "lnx& \\text{x>0}\\\\\n",
    "ln(-x)& \\text{x<0}\n",
    "\\end{cases}$$\n",
    "\n",
    "当x>0,y=lnx,$y'=\\frac{1}{x}$\n",
    "\n",
    "当x<0,y=ln(-x),$y'=-1\\frac{1}{-x}=\\frac{1}{x}$\n",
    "\n",
    "所以$y'=\\frac{1}{x}$"
   ]
  },
  {
   "cell_type": "code",
   "execution_count": 4,
   "metadata": {},
   "outputs": [
    {
     "data": {
      "text/plain": [
       "<matplotlib.image.AxesImage at 0x11ed675c0>"
      ]
     },
     "execution_count": 4,
     "metadata": {},
     "output_type": "execute_result"
    },
    {
     "data": {
      "image/png": "[encoded data removed]",
      "text/plain": [
       "<Figure size 432x288 with 1 Axes>"
      ]
     },
     "metadata": {
      "needs_background": "light"
     },
     "output_type": "display_data"
    }
   ],
   "source": [
    "import matplotlib.pyplot as plt\n",
    "import matplotlib.image as mpimg\n",
    "import numpy as np\n",
    "I1 = mpimg.imread('./图片/lnx绝对值.png')\n",
    "plt.imshow(I1)"
   ]
  },
  {
   "cell_type": "markdown",
   "metadata": {},
   "source": [
    "PPT P69\n",
    "\n",
    "例5 $y=lncos(e^x)$,求$\\frac{dy}{dx}$"
   ]
  },
  {
   "cell_type": "markdown",
   "metadata": {},
   "source": [
    "解：\n",
    "\n",
    "$$\\frac{dy}{dx}=-\\frac{1}{cos(e^x)}sin(e^x)e^x=-e^xtane^x$$"
   ]
  },
  {
   "cell_type": "markdown",
   "metadata": {},
   "source": [
    "PPT P74\n",
    "\n",
    "例7 求函数$y=tan[ln(1+x^2)]$的导数。"
   ]
  },
  {
   "cell_type": "markdown",
   "metadata": {},
   "source": [
    "解：\n",
    "\n",
    "$$y'=2xsec^2[ln(1+x^2)]\\frac{1}{1+x^2}$$"
   ]
  },
  {
   "cell_type": "markdown",
   "metadata": {},
   "source": [
    "PPT P75\n",
    "\n",
    "例8 $y=ln(x+\\sqrt {x^2+a^2})$ 求y'"
   ]
  },
  {
   "cell_type": "markdown",
   "metadata": {},
   "source": [
    "解：\n",
    "\n",
    "$$y'=\\frac{1}{x+\\sqrt {x^2+a^2}}(x+\\sqrt {x^2+a^2})'$$\n",
    "\n",
    "$$=\\frac{1}{x+\\sqrt {x^2+a^2}}[1+\\frac{2x}{2\\sqrt {x^2+a^2}}]$$"
   ]
  },
  {
   "cell_type": "code",
   "execution_count": 6,
   "metadata": {},
   "outputs": [],
   "source": [
    "#这一步容易出错，之后的计算省略"
   ]
  },
  {
   "cell_type": "markdown",
   "metadata": {},
   "source": [
    "PPT P77\n",
    "\n",
    "例10 已知$f'(u)$存在，求$y=f(x^2)$的导数。\n",
    "\n",
    "解：$$y'=[f(x^2)]'=f'(x^2)(x^2)'=2xf'(x^2)$$"
   ]
  },
  {
   "cell_type": "markdown",
   "metadata": {},
   "source": [
    "PPT P83\n",
    "\n",
    "已知$\\frac{d}{dx}[f(x^3)]=\\frac{1}{x}$，求$f'(x)$"
   ]
  },
  {
   "cell_type": "code",
   "execution_count": null,
   "metadata": {},
   "outputs": [],
   "source": [
    "#不会，看不懂题目"
   ]
  }
 ],
 "metadata": {
  "kernelspec": {
   "display_name": "Python 3",
   "language": "python",
   "name": "python3"
  },
  "language_info": {
   "codemirror_mode": {
    "name": "ipython",
    "version": 3
   },
   "file_extension": ".py",
   "mimetype": "text/x-python",
   "name": "python",
   "nbconvert_exporter": "python",
   "pygments_lexer": "ipython3",
   "version": "3.7.3"
  }
 },
 "nbformat": 4,
 "nbformat_minor": 2
}
