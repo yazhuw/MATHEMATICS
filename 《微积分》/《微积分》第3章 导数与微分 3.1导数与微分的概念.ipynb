{
 "cells": [
  {
   "cell_type": "markdown",
   "metadata": {},
   "source": [
    "#### 3.1.2 导数的定义"
   ]
  },
  {
   "cell_type": "markdown",
   "metadata": {},
   "source": [
    "设函数y=f(x)在点$x_0$的某个邻域内有定义，当自变量x在$x_0$处取得增量$\\Delta{x}$时，相应的函数取得增量$\\Delta{y}=f(x_0+\\Delta{x})-f(x_0)$；如果$\\Delta{y}$与$\\Delta{x}$之比当$\\Delta{x}\\rightarrow0$时的极限存在，则称函数y=f(x)在点$x_0$处可导，并称这个极限为函数y=f(x)在点$x_0$处的导数，记为$f'(x_0)$，即\n",
    "\n",
    "$$f'(x_0) = \\lim_{\\Delta{x}\\rightarrow0}\\frac{\\Delta{y}}{\\Delta{x}} =\\lim_{\\Delta{x}\\rightarrow0}\\frac{f(x_0+\\Delta{x})-f(x_0)}{\\Delta{x}}$$"
   ]
  },
  {
   "cell_type": "markdown",
   "metadata": {},
   "source": [
    "也可记作$$y'|_{x=x_0}$$\n",
    "\n",
    "或$$\\frac{dy}{dx}|_{x=x_0}$$\n",
    "\n",
    "或$$\\frac{df(x)}{dx}|_{x=x_0}$$"
   ]
  },
  {
   "cell_type": "markdown",
   "metadata": {},
   "source": [
    "例：\n",
    "\n",
    "已知$y=x^3$，求f'(x),f'(2)"
   ]
  },
  {
   "cell_type": "markdown",
   "metadata": {},
   "source": [
    "解：\n",
    "\n",
    "$$f'(x)=lim_{\\Delta x\\rightarrow0}\\frac{f(x+\\Delta x)-f(x)}{\\Delta x}$$\n",
    "\n",
    "$$=lim_{\\Delta x\\rightarrow0}\\frac{(x+\\Delta x)^3-x^3}{\\Delta x}$$\n",
    "\n",
    "$$=lim_{\\Delta x\\rightarrow0}\\frac{x^3+(\\Delta x)^3+3x^2\\Delta x + 3x(\\Delta x)^2-x^3}{\\Delta x}$$\n",
    "\n",
    "$$=lim_{\\Delta x\\rightarrow0}\\frac{(\\Delta x)^3+3x^2\\Delta x + 3x(\\Delta x)^2}{\\Delta x}$$\n",
    "\n",
    "$$=lim_{\\Delta x\\rightarrow0}(\\Delta x)^2+3x^2 + 3x\\Delta x$$\n",
    "\n",
    "$$=3x^2$$"
   ]
  },
  {
   "cell_type": "markdown",
   "metadata": {},
   "source": [
    "$$f'(2)=3x^2|_{x=2}=12$$"
   ]
  },
  {
   "cell_type": "markdown",
   "metadata": {},
   "source": [
    "记住：\n",
    "\n",
    "$$(a+b)^3=a^3+b^3+3a^2b+3ab^2$$"
   ]
  },
  {
   "cell_type": "markdown",
   "metadata": {},
   "source": [
    "#### 3.1.5 导数与微分的几何意义\n",
    "\n",
    "若函数f(x)在点$x_0$处有导数$f'(x_0)$，则曲线y=f(x)在对应点$M(x_0,y_0)$处有唯一的一条不垂直于x轴的切线，且切线的斜率为$f'(x_0)$。\n",
    "\n",
    "曲线在点$M(x_0,y_0)$处切线方程为：\n",
    "\n",
    "$$y-y_0=f'(x_0)(x-x_0)$$\n",
    "\n",
    "曲线在点$M(x_0,y_0)$处法线方程为：\n",
    "\n",
    "$$y-y_0=-\\frac{1}{f'(x_0)}(x-x_0)$$"
   ]
  },
  {
   "cell_type": "code",
   "execution_count": 39,
   "metadata": {},
   "outputs": [
    {
     "data": {
      "text/plain": [
       "<matplotlib.image.AxesImage at 0x1187ceeb8>"
      ]
     },
     "execution_count": 39,
     "metadata": {},
     "output_type": "execute_result"
    },
    {
     "data": {
      "image/png": "[encoded data removed]",
      "text/plain": [
       "<Figure size 432x288 with 1 Axes>"
      ]
     },
     "metadata": {
      "needs_background": "light"
     },
     "output_type": "display_data"
    }
   ],
   "source": [
    "import matplotlib.pyplot as plt\n",
    "import matplotlib.image as mpimg\n",
    "import numpy as np\n",
    "I1 = mpimg.imread('./图片/切线法线.png')\n",
    "plt.imshow(I1)"
   ]
  },
  {
   "cell_type": "markdown",
   "metadata": {},
   "source": [
    "例：求曲线$y=x^3$在点(2,8)处的切线方程和法线方程。\n",
    "\n",
    "解：\n",
    "\n",
    "$$f'(x)=3x^2$$\n",
    "$$f'(2)=12$$\n",
    "\n",
    "点(2,8)处切线方程为：\n",
    "\n",
    "$$y-8=12(x-2)$$\n",
    "$$y=12x-16$$\n",
    "\n",
    "点(2,8)处法线方程为：\n",
    "\n",
    "$$y-8=-\\frac{1}{12}(x-2)$$\n",
    "$$y=-\\frac{1}{12}x+\\frac{49}{6}$$"
   ]
  },
  {
   "cell_type": "markdown",
   "metadata": {},
   "source": [
    "#### 3.1.6 求导数与微分举例\n",
    "\n",
    "函数的微分dy与自变量的微分dx之商等于该函数的导数，因此导数也叫做“微商”。"
   ]
  },
  {
   "cell_type": "markdown",
   "metadata": {},
   "source": [
    "#### 3.1.7 单侧导数（左导数、右导数）\n",
    "\n",
    "函数f(x)在点$x_0$处可导的充分必要条件是：函数f(x)在点$x_0$处的左右导数存在并相等"
   ]
  },
  {
   "cell_type": "markdown",
   "metadata": {},
   "source": [
    "例：讨论函数$f(x)=|x|$在x=0处的可导性。\n",
    "\n",
    "解：\n",
    "\n",
    "$$f(x)=|x|=\n",
    "\\begin{cases}\n",
    "x& \\text{x>=0}\\\\\n",
    "-x& \\text{x<0}\n",
    "\\end{cases}$$\n",
    "\n",
    "步骤省略\n",
    "\n",
    "函数f(x)=|x|在x=0处不可导。"
   ]
  },
  {
   "cell_type": "code",
   "execution_count": 29,
   "metadata": {},
   "outputs": [
    {
     "data": {
      "text/plain": [
       "<matplotlib.image.AxesImage at 0x122fd2438>"
      ]
     },
     "execution_count": 29,
     "metadata": {},
     "output_type": "execute_result"
    },
    {
     "data": {
      "image/png": "[encoded data removed]",
      "text/plain": [
       "<Figure size 432x288 with 1 Axes>"
      ]
     },
     "metadata": {
      "needs_background": "light"
     },
     "output_type": "display_data"
    }
   ],
   "source": [
    "I2 = mpimg.imread('./图片/x绝对值函数图像.png')\n",
    "plt.imshow(I2)"
   ]
  },
  {
   "cell_type": "markdown",
   "metadata": {},
   "source": [
    "#### 3.1.8 函数可微性与连续性的关系（可导性与连续性的关系）\n",
    "\n",
    "连续不一定可导"
   ]
  },
  {
   "cell_type": "markdown",
   "metadata": {},
   "source": [
    "$$f(x)=|x|=\n",
    "\\begin{cases}\n",
    "x^2& \\text{x>=0}\\\\\n",
    "x& \\text{x<0}\n",
    "\\end{cases}$$"
   ]
  },
  {
   "cell_type": "markdown",
   "metadata": {},
   "source": [
    "f(x)在x=0处连续，但f'(0)不存在"
   ]
  },
  {
   "cell_type": "code",
   "execution_count": 30,
   "metadata": {},
   "outputs": [
    {
     "data": {
      "text/plain": [
       "<matplotlib.image.AxesImage at 0x14b20f588>"
      ]
     },
     "execution_count": 30,
     "metadata": {},
     "output_type": "execute_result"
    },
    {
     "data": {
      "image/png": "[encoded data removed]",
      "text/plain": [
       "<Figure size 432x288 with 1 Axes>"
      ]
     },
     "metadata": {
      "needs_background": "light"
     },
     "output_type": "display_data"
    }
   ],
   "source": [
    "I3 = mpimg.imread('./图片/连续不一定可导.png')\n",
    "plt.imshow(I3)"
   ]
  },
  {
   "cell_type": "markdown",
   "metadata": {},
   "source": [
    "曲线f(x)在点$x_0$出出现下列情况时，函数f(x)在点$x_0$处不可导："
   ]
  },
  {
   "cell_type": "code",
   "execution_count": 33,
   "metadata": {},
   "outputs": [],
   "source": [
    "I4 = mpimg.imread('./图片/不可导之1.png')\n",
    "I5 = mpimg.imread('./图片/不可导之2.png')\n",
    "I6 = mpimg.imread('./图片/不可导之3.png')"
   ]
  },
  {
   "cell_type": "markdown",
   "metadata": {},
   "source": [
    "(1)曲线f(x)在点$x_0$处是尖点"
   ]
  },
  {
   "cell_type": "code",
   "execution_count": 34,
   "metadata": {},
   "outputs": [
    {
     "data": {
      "text/plain": [
       "<matplotlib.image.AxesImage at 0x116a25c50>"
      ]
     },
     "execution_count": 34,
     "metadata": {},
     "output_type": "execute_result"
    },
    {
     "data": {
      "image/png": "[encoded data removed]",
      "text/plain": [
       "<Figure size 432x288 with 1 Axes>"
      ]
     },
     "metadata": {
      "needs_background": "light"
     },
     "output_type": "display_data"
    }
   ],
   "source": [
    "plt.imshow(I4)"
   ]
  },
  {
   "cell_type": "markdown",
   "metadata": {},
   "source": [
    "(2)曲线f(x)在点$x_0$处间断"
   ]
  },
  {
   "cell_type": "code",
   "execution_count": 35,
   "metadata": {},
   "outputs": [
    {
     "data": {
      "text/plain": [
       "<matplotlib.image.AxesImage at 0x117aa72e8>"
      ]
     },
     "execution_count": 35,
     "metadata": {},
     "output_type": "execute_result"
    },
    {
     "data": {
      "image/png": "[encoded data removed]",
      "text/plain": [
       "<Figure size 432x288 with 1 Axes>"
      ]
     },
     "metadata": {
      "needs_background": "light"
     },
     "output_type": "display_data"
    }
   ],
   "source": [
    "plt.imshow(I5)"
   ]
  },
  {
   "cell_type": "markdown",
   "metadata": {},
   "source": [
    "(3)曲线f(x)在点$x_0$处有垂直切线"
   ]
  },
  {
   "cell_type": "code",
   "execution_count": 36,
   "metadata": {},
   "outputs": [
    {
     "data": {
      "text/plain": [
       "<matplotlib.image.AxesImage at 0x117fcc978>"
      ]
     },
     "execution_count": 36,
     "metadata": {},
     "output_type": "execute_result"
    },
    {
     "data": {
      "image/png": "[encoded data removed]",
      "text/plain": [
       "<Figure size 432x288 with 1 Axes>"
      ]
     },
     "metadata": {
      "needs_background": "light"
     },
     "output_type": "display_data"
    }
   ],
   "source": [
    "plt.imshow(I6)"
   ]
  },
  {
   "cell_type": "code",
   "execution_count": null,
   "metadata": {},
   "outputs": [],
   "source": [
    "#补充"
   ]
  },
  {
   "cell_type": "markdown",
   "metadata": {},
   "source": [
    "#### PPT P26 利用导数定义求极限\n",
    "\n",
    "例：设函数f(x)在$x=x_0$处可导，且$f'(x_0)=A$,求$$lim_{h\\rightarrow0}\\frac{f(x_0+ah)-f(x_0+bh)}{ch}$$"
   ]
  },
  {
   "cell_type": "markdown",
   "metadata": {},
   "source": [
    "解：\n",
    "\n",
    "由导数定义可知$$f'(x_0)=lim_{\\Delta x\\rightarrow0}\\frac{\\Delta y}{\\Delta x}=lim_{\\Delta x\\rightarrow0}\\frac{f(x_0+h)-f(x_0)}{h}=A$$\n",
    "\n",
    "因此：\n",
    "\n",
    "$$lim_{h\\rightarrow0}\\frac{f(x_0+ah)-f(x_0+bh)}{ch}$$\n",
    "\n",
    "$$=lim_{h\\rightarrow0}\\frac{[f(x_0+ah)-f(x_0)]-[f(x_0+bh)-f(x_0)]}{ch}$$\n",
    "\n",
    "$$=lim_{h\\rightarrow0}[\\frac{f(x_0+ah)-f(x_0)}{ch}-\\frac{f(x_0+bh)-f(x_0)}{ch}]$$\n",
    "\n",
    "$$=lim_{h\\rightarrow0}[\\frac{a}{c}\\frac{f(x_0+ah)-f(x_0)}{ah}-\\frac{b}{c}\\frac{f(x_0+bh)-f(x_0)}{bh}]$$\n",
    "\n",
    "$$=\\frac{a}{c}f'(x_0)-\\frac{b}{c}f'(x_0)$$\n",
    "\n",
    "$$=\\frac{A(a-b)}{c}$$"
   ]
  },
  {
   "cell_type": "markdown",
   "metadata": {},
   "source": [
    "PPT P28\n",
    "\n",
    "练习：已知$\\lim_{x\\rightarrow0}\\frac{f(x)-f(3x)}{x}=6$，且f'(0)存在，求f'(0)。\n",
    "\n",
    "解：因为\n",
    "\n",
    "$$\\lim_{x\\rightarrow0}\\frac{f(x)-f(3x)}{x}$$\n",
    "\n",
    "$$=\\lim_{x\\rightarrow0}\\frac{f(x)-f(0)+f(0)-f(3x)}{x}$$\n",
    "\n",
    "$$=\\lim_{x\\rightarrow0}\\frac{f(x)-f(0)}{x-0}-3\\lim_{x\\rightarrow0}\\frac{f(3x)-f(0)}{3x-0}$$\n",
    "\n",
    "$$=f'(0)-3f'(0)$$\n",
    "\n",
    "$$=-2f'(0)$$\n",
    "\n",
    "所以$$-2f'(0)=6$$\n",
    "\n",
    "$$f'(0)=-3$$"
   ]
  },
  {
   "cell_type": "code",
   "execution_count": 38,
   "metadata": {},
   "outputs": [],
   "source": [
    "#这道题能看懂解法，但是自己想不出来"
   ]
  },
  {
   "cell_type": "markdown",
   "metadata": {},
   "source": [
    "PPT P30 \n",
    "\n",
    "例6 讨论函数\n",
    "$f(x)=\n",
    "\\begin{cases}\n",
    "x^2+x& \\text{x<=0}\\\\\n",
    "ln(x+1)& \\text{x>0}\n",
    "\\end{cases}$\n",
    "在x=0处是否可导"
   ]
  },
  {
   "cell_type": "markdown",
   "metadata": {},
   "source": [
    "解：\n",
    "\n",
    "因为在点x=0处两侧的表达式不同，所以先求f(x)在点x=0处的左右导数\n",
    "\n",
    "$$f_{-}'(0)$$\n",
    "\n",
    "$$=\\lim_{x\\rightarrow0^-}\\frac{f(x)-f(0)}{x-0}$$\n",
    "\n",
    "$$=\\lim_{x\\rightarrow0^-}\\frac{x^2+x}{x}$$\n",
    "\n",
    "$$=\\lim_{x\\rightarrow0^-}(x+1)=1$$\n",
    "\n",
    "\n",
    "\n",
    "$$f_{+}'(0)$$\n",
    "\n",
    "$$=\\lim_{x\\rightarrow0^-}\\frac{f(x)-f(0)}{x-0}$$\n",
    "\n",
    "$$=\\lim_{x\\rightarrow0^-}\\frac{ln(x+1)}{x}=1$$"
   ]
  },
  {
   "cell_type": "markdown",
   "metadata": {},
   "source": [
    "$\\lim_{x\\rightarrow0^-}\\frac{ln(x+1)}{x}=1$这一步的计算可以参考，结果可以记住：\n",
    "\n",
    "https://zhidao.baidu.com/question/562405788873898324.html?qbl=relate_question_2&word=ln%28x%2B1%29"
   ]
  },
  {
   "cell_type": "markdown",
   "metadata": {},
   "source": [
    "$$f_{-}'(0)=f_{+}'(0)=1$$\n",
    "\n",
    "所以f(x)在x=0处可导，且f'(0)=1,说明曲线f(x)在(0,0)点处的切线为y=x"
   ]
  },
  {
   "cell_type": "markdown",
   "metadata": {},
   "source": [
    "PPT P32\n",
    "\n",
    "例7 设函数$f(x)=\n",
    "\\begin{cases}\n",
    "x^2& \\text{x<=x_0}\\\\\n",
    "ax+b& \\text{x>x_0}\n",
    "\\end{cases}$在$x=x_0$处可导，求a,b\n",
    "\n",
    "解：\n",
    "\n",
    "因为在点$x=x_0$处可导，所以f(x)在点$x=x_0$处也必定连续\n",
    "\n",
    "$$\\lim_{x\\rightarrow {x_0}^-}f(x)=\\lim_{x\\rightarrow {x_0}^-}x^2={x_0}^2$$\n",
    "\n",
    "$$\\lim_{x\\rightarrow {x_0}^+}f(x)=\\lim_{x\\rightarrow {x_0}^+}(ax+b)=ax_0+b$$\n",
    "\n",
    "$${x_0}^2=ax_0+b$$\n",
    "\n",
    "又$$f'_{-}(x_0)=\\lim_{x\\rightarrow {x_0}^-}\\frac{x^2-x_0^2}{x-x_0}=\\lim_{x\\rightarrow {x_0}^-}x+x_0=2x_0$$\n",
    "\n",
    "$$f'_{+}(x_0)=\\lim_{x\\rightarrow {x_0}^+}\\frac{(ax+b)-x_0^2}{x-x_0}=\\lim_{x\\rightarrow {x_0}^+}\\frac{(ax+b)-(ax_0+b)}{x-x_0}=a$$\n",
    "\n",
    "$$a=2x_0$$\n",
    "\n",
    "$$b=-x_0^2$$"
   ]
  }
 ],
 "metadata": {
  "kernelspec": {
   "display_name": "Python 3",
   "language": "python",
   "name": "python3"
  },
  "language_info": {
   "codemirror_mode": {
    "name": "ipython",
    "version": 3
   },
   "file_extension": ".py",
   "mimetype": "text/x-python",
   "name": "python",
   "nbconvert_exporter": "python",
   "pygments_lexer": "ipython3",
   "version": "3.7.3"
  }
 },
 "nbformat": 4,
 "nbformat_minor": 2
}
