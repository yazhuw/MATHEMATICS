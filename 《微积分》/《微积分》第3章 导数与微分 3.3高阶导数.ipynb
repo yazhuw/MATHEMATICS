{
 "cells": [
  {
   "cell_type": "markdown",
   "metadata": {},
   "source": [
    "### 3.3 高阶导数\n",
    "\n",
    "n阶导数记作：$y^{(n)}$,$f^{(n)}(x)$,$\\frac{d^ny}{dx^n}$,$\\frac{d^nf}{dx^n}$\n",
    "\n",
    "记住：\n",
    "\n",
    "$$(a^x)^{(n)}=a^x(lna)^n$$\n",
    "$$(e^x)^{(n)}=e^x$$\n",
    "$$(xe^x)^{(n)}=e^x(x+n)$$\n",
    "$$(\\frac{1}{x+a})^{(n)}=(-1)^n\\frac{n!}{(x+a)^{n+1}}$$\n",
    "$$(sinx)^{(n)}=sin(x+n\\frac{\\pi}{2})$$\n",
    "$$(cosx)^{(n)}=cos(x+n\\frac{\\pi}{2})$$\n",
    "\n",
    "函数积的n阶导数——莱布尼兹(Leibniz)公式：\n",
    "\n",
    "$$(uv)^{(n)}=\\sum_{k=0}^nC_n^ku^{(n-k)}v^{(k)}$$"
   ]
  },
  {
   "cell_type": "code",
   "execution_count": 1,
   "metadata": {},
   "outputs": [],
   "source": [
    "#不懂"
   ]
  },
  {
   "cell_type": "markdown",
   "metadata": {},
   "source": [
    "PPT P122\n",
    "\n",
    "例11 求$y=x^2sinx$的10阶导数。"
   ]
  },
  {
   "cell_type": "code",
   "execution_count": null,
   "metadata": {},
   "outputs": [],
   "source": [
    "#不会"
   ]
  }
 ],
 "metadata": {
  "kernelspec": {
   "display_name": "Python 3",
   "language": "python",
   "name": "python3"
  },
  "language_info": {
   "codemirror_mode": {
    "name": "ipython",
    "version": 3
   },
   "file_extension": ".py",
   "mimetype": "text/x-python",
   "name": "python",
   "nbconvert_exporter": "python",
   "pygments_lexer": "ipython3",
   "version": "3.7.3"
  }
 },
 "nbformat": 4,
 "nbformat_minor": 2
}
