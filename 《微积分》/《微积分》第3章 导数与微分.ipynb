{
 "cells": [
  {
   "cell_type": "markdown",
   "metadata": {},
   "source": [
    "#### 3.1.2 导数的定义"
   ]
  },
  {
   "cell_type": "markdown",
   "metadata": {},
   "source": [
    "设函数y=f(x)在点$x_0$的某个邻域内有定义，当自变量x在$x_0$处取得增量$\\Delta{x}$时，相应的函数取得增量$\\Delta{y}=f(x_0+\\Delta{x})-f(x_0)$；如果$\\Delta{y}$与$\\Delta{x}$之比当$\\Delta{x}\\rightarrow0$时的极限存在，则称函数y=f(x)在点$x_0$处可导，并称这个极限为函数y=f(x)在点$x_0$处的导数，记为$f'(x_0)$，即\n",
    "\n",
    "$$f'(x_0) = \\lim_{\\Delta{x}\\rightarrow0}\\frac{\\Delta{y}}{\\Delta{x}} = \\lim_{\\Delta{x}\\rightarrow0}\\frac{f(x_0+\\Delta{x})-f(x_0)}{\\Delta{x}}$$"
   ]
  },
  {
   "cell_type": "markdown",
   "metadata": {},
   "source": [
    "也可记作$$y'|_{x=x_0}$$\n",
    "\n",
    "或$$\\frac{dy}{dx}|_{x=x_0}$$\n",
    "\n",
    "或$$\\frac{df(x)}{dx}|_{x=x_0}$$"
   ]
  },
  {
   "cell_type": "code",
   "execution_count": null,
   "metadata": {},
   "outputs": [],
   "source": []
  }
 ],
 "metadata": {
  "kernelspec": {
   "display_name": "Python 3",
   "language": "python",
   "name": "python3"
  },
  "language_info": {
   "codemirror_mode": {
    "name": "ipython",
    "version": 3
   },
   "file_extension": ".py",
   "mimetype": "text/x-python",
   "name": "python",
   "nbconvert_exporter": "python",
   "pygments_lexer": "ipython3",
   "version": "3.7.3"
  }
 },
 "nbformat": 4,
 "nbformat_minor": 2
}
