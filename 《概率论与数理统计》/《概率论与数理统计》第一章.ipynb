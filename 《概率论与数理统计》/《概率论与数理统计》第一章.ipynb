{
 "cells": [
  {
   "cell_type": "markdown",
   "metadata": {},
   "source": [
    "### 1.5 等可能概型（古典概型）"
   ]
  },
  {
   "cell_type": "markdown",
   "metadata": {},
   "source": [
    "P7\n",
    "\n",
    "例1 设袋中有4只白球和2只黑球，现从中取球两次，第一次取出一只球，观察它的颜色后放回袋中，第二次再取出一只球，求(1)两次都取得白球的概率(2)恰好取得一次白球的概率。\n",
    "\n",
    "(1)\n",
    "\n",
    "$$P(A) = \\frac{4*4}{6*6}$$\n",
    "\n",
    "(2)\n",
    "\n",
    "$$P(A) = \\frac{4*2+2*4}{6*6}$$"
   ]
  },
  {
   "cell_type": "code",
   "execution_count": 1,
   "metadata": {},
   "outputs": [
    {
     "data": {
      "text/plain": [
       "0.4444444444444444"
      ]
     },
     "execution_count": 1,
     "metadata": {},
     "output_type": "execute_result"
    }
   ],
   "source": [
    "(4*4)/(6*6)"
   ]
  },
  {
   "cell_type": "code",
   "execution_count": 3,
   "metadata": {},
   "outputs": [
    {
     "data": {
      "text/plain": [
       "0.4444444444444444"
      ]
     },
     "execution_count": 3,
     "metadata": {},
     "output_type": "execute_result"
    }
   ],
   "source": [
    "(4*2+2*4)/(6*6)"
   ]
  },
  {
   "cell_type": "markdown",
   "metadata": {},
   "source": [
    "P8\n",
    "\n",
    "例3 设袋中有4只白球和2只黑球，现从中任取2只球，第一次取出一只不放回袋中，第二次再取出一只球，求取得2只白球的概率。\n",
    "\n",
    "$$P(A) = \\frac{C_{4}^{2}}{C_{6}^{2}}$$"
   ]
  },
  {
   "cell_type": "code",
   "execution_count": 11,
   "metadata": {},
   "outputs": [
    {
     "data": {
      "text/plain": [
       "0.4"
      ]
     },
     "execution_count": 11,
     "metadata": {},
     "output_type": "execute_result"
    }
   ],
   "source": [
    "(factorial(4)/(factorial(2)*factorial(4-2)))/(factorial(6)/(factorial(2)*factorial(6-2)))"
   ]
  },
  {
   "cell_type": "markdown",
   "metadata": {},
   "source": [
    "P9 \n",
    "\n",
    "例5 设20件产品中有两件废品，现从中抽取10件产品，求其中恰有一件废品的概率。\n",
    "\n",
    "\n",
    "\n",
    "从20件里抽10件有$C_{20}^{10}$种取法，从20件里恰好抽到一件废品有$C_2^1C_{18}^9$种取法，所以概率是：\n",
    "\n",
    "$$P(A) = \\frac{C_2^1C_{18}^9}{C_{20}^{10}}$$\n",
    "\n",
    "\n",
    "\n",
    "**从n个元素中抽出k个元素而不考虑其顺序称为组合**，\n",
    "\n",
    "$$C_{n}^{k} = \\frac{n(n-1)(n-2)\\cdots(n-k+1)}{k!} = \\frac{n!}{k!(n-k)!}$$"
   ]
  },
  {
   "cell_type": "code",
   "execution_count": 6,
   "metadata": {},
   "outputs": [],
   "source": [
    "def factorial(n):\n",
    "    if n == 0 or n == 1:\n",
    "        return 1\n",
    "    else:\n",
    "        return (n * factorial(n - 1))"
   ]
  },
  {
   "cell_type": "code",
   "execution_count": 8,
   "metadata": {},
   "outputs": [
    {
     "data": {
      "text/plain": [
       "48620.0"
      ]
     },
     "execution_count": 8,
     "metadata": {},
     "output_type": "execute_result"
    }
   ],
   "source": [
    "factorial(18)/(factorial(9)*factorial(18-9))"
   ]
  },
  {
   "cell_type": "code",
   "execution_count": 9,
   "metadata": {},
   "outputs": [
    {
     "data": {
      "text/plain": [
       "184756.0"
      ]
     },
     "execution_count": 9,
     "metadata": {},
     "output_type": "execute_result"
    }
   ],
   "source": [
    "factorial(20)/(factorial(10)*factorial(20-10))"
   ]
  },
  {
   "cell_type": "code",
   "execution_count": 10,
   "metadata": {},
   "outputs": [
    {
     "data": {
      "text/plain": [
       "0.5263157894736842"
      ]
     },
     "execution_count": 10,
     "metadata": {},
     "output_type": "execute_result"
    }
   ],
   "source": [
    "(2*48620.0)/184756.0"
   ]
  },
  {
   "cell_type": "markdown",
   "metadata": {},
   "source": [
    "P11\n",
    "\n",
    "例8"
   ]
  },
  {
   "cell_type": "code",
   "execution_count": 13,
   "metadata": {},
   "outputs": [],
   "source": [
    "#不会"
   ]
  },
  {
   "cell_type": "markdown",
   "metadata": {},
   "source": [
    "### 1.6 条件概率、事件的独立性"
   ]
  },
  {
   "cell_type": "markdown",
   "metadata": {},
   "source": [
    "p12\n",
    "\n",
    "例1 设某家庭有三个孩子，在已知至少有一个女孩的条件下，求这个家庭中至少有一个男孩的概率。\n",
    "\n",
    "“至少有一个是女孩”的逆事件是“三个孩子都是男孩”。“至少有一个是女孩”的概率是：\n",
    "\n",
    "$$ P(A) = 1-(\\frac{1}{2})^3 = \\frac{7}{8}$$\n",
    "\n",
    "“至少有一个是男孩的”概率是：\n",
    "\n",
    "$$ P(B) = P(A) = \\frac{7}{8}$$"
   ]
  },
  {
   "cell_type": "code",
   "execution_count": null,
   "metadata": {},
   "outputs": [],
   "source": [
    "#怎么能打出完全括住1/2的括号？"
   ]
  },
  {
   "cell_type": "markdown",
   "metadata": {},
   "source": [
    "$$ P(AB) = 1 - P(\\overline{AB}) = 1 - P(\\overline{A})- P(\\overline{B}) = \\frac{6}{8}$$"
   ]
  },
  {
   "cell_type": "markdown",
   "metadata": {},
   "source": [
    "所以所求的概率是：\n",
    "\n",
    "$$ P(B|A) = \\frac{P(AB)}{P(A)} = \\frac{6}{7} $$"
   ]
  },
  {
   "cell_type": "markdown",
   "metadata": {},
   "source": [
    "P13\n",
    "\n",
    "例2 设一定数量的子弹均分给甲、乙两个射击选手，同时射击某一目标，甲选手击中率为0.9，乙击中率为0.8，求这些子弹中的任意一发是由甲射出并击中目标的概率。\n",
    "\n",
    "A：击中目标\n",
    "\n",
    "B：甲射出 0.5\n",
    "\n",
    "$$ P(AB) = P(B)P(A|B) = 0.5*0.9 = 0.45 $$"
   ]
  },
  {
   "cell_type": "markdown",
   "metadata": {},
   "source": [
    "例3 在11张卡片上分别写上probability这11个字母，混合后重新排列，求正好得到probability的概率。\n",
    "\n",
    "设$A_1$表示卡片是P，$A_2$表示卡片是r，……，$A_11$表示卡片是y，由乘法定理，所求的概率为：\n",
    "\n",
    "$$ P(A_1A_2A_3\\cdots A_{11})=P(A_1)P(A_2|A_1)P(A_3|A_1A_2)\\cdots P(A_{11}|A_1A_2A_3\\cdots A_{10}) \n",
    "= \\frac{1}{11}\\frac{1}{10}\\frac{1}{9}\\frac{2}{8}\\frac{1}{7}\\frac{1}{6}\\frac{2}{5}\\frac{1}{4}\\frac{1}{3}\\frac{1}{2}\\frac{1}{1}$$"
   ]
  },
  {
   "cell_type": "markdown",
   "metadata": {},
   "source": [
    "#### 1.6.4 全概率公式和贝叶斯公式\n",
    "\n",
    "全概率公式和贝叶斯公式是概率论中两个最重要的计算公式。"
   ]
  },
  {
   "cell_type": "code",
   "execution_count": null,
   "metadata": {},
   "outputs": [],
   "source": [
    "#对照具体的题目能懂，光看公式不懂。"
   ]
  },
  {
   "cell_type": "markdown",
   "metadata": {},
   "source": [
    "P15\n",
    "\n",
    "例5 某地男性肺癌的发病率为0.5%，女性发病率0.25%，假设男女人数相等，现随机挑选一人恰患肺癌，问此人是男性的概率。\n",
    "\n",
    "患病：P(A) <br>\n",
    "男性：P($B_1$)=0.5<br>\n",
    "女性：P($B_2$)=0.5<br>\n",
    "男性患病：P(A|$B_1$)=0.005<br>\n",
    "女性患病：P(A|$B_2$)=0.0025<br>\n",
    "\n",
    "由贝叶斯公式，所求的概率为：\n",
    "\n",
    "$$ P(B_1|A)= \\frac{P(A|B_1)P(B_1)}{P(A|B_1)P(B_1)+P(A|B_2)P(B_2)} = \\frac{0.005*0.5}{0.005*0.5+0.0025*0.5}$$"
   ]
  },
  {
   "cell_type": "code",
   "execution_count": 18,
   "metadata": {},
   "outputs": [
    {
     "data": {
      "text/plain": [
       "0.6666666666666667"
      ]
     },
     "execution_count": 18,
     "metadata": {},
     "output_type": "execute_result"
    }
   ],
   "source": [
    "(0.005*0.5)/(0.005*0.5+0.0025*0.5)"
   ]
  },
  {
   "cell_type": "markdown",
   "metadata": {},
   "source": [
    "例6 设飞机射击某目标时能够飞到距离目标300m，200m，100m的概率分别为0.5，0.3，0.2，击中目标的概率分别为0.01，0.02，0.1<br>\n",
    "(1)求飞机击中目标的概率(2)已知目标被击中，求在300m击中的概率。\n",
    "\n",
    "击中：P(A)<br>\n",
    "飞到300m：P($B_1$)=0.5<br>\n",
    "飞到200m：P($B_2$)=0.3<br>\n",
    "飞到100m：P($B_3$)=0.2<br>\n",
    "飞到300m击中：P(A|$B_1$)=0.01<br>\n",
    "飞到200m击中：P(A|$B_2$)=0.02<br>\n",
    "飞到100m击中：P(A|$B_3$)=0.1<br>\n",
    "\n",
    "(1) 根据全概率公式，击中的概率：\n",
    "$$ P(A) = P(B_1)P(A|B_1) + P(B_2)P(A|B_2) + P(B_3)P(A|B_3) = 0.5*0.01 + 0.3*0.02+0.2*0.1$$\n",
    "\n",
    "(2)由贝叶斯公式，已知击中，则在300m击中的概率：\n",
    "\n",
    "$$ P(P(B_1)|A) = \\frac{P(A|B_1)P(B_1)}{\\sum_{i=1}^{3} P(P(A|B_i))(B_i)} = \\frac{0.01*0.5}{0.01*0.5+0.02*0.3+0.1*0.2}$$"
   ]
  },
  {
   "cell_type": "code",
   "execution_count": 19,
   "metadata": {},
   "outputs": [
    {
     "data": {
      "text/plain": [
       "0.031000000000000003"
      ]
     },
     "execution_count": 19,
     "metadata": {},
     "output_type": "execute_result"
    }
   ],
   "source": [
    "0.5*0.01+0.3*0.02+0.2*0.1"
   ]
  },
  {
   "cell_type": "code",
   "execution_count": 20,
   "metadata": {},
   "outputs": [
    {
     "data": {
      "text/plain": [
       "0.16129032258064516"
      ]
     },
     "execution_count": 20,
     "metadata": {},
     "output_type": "execute_result"
    }
   ],
   "source": [
    "0.01*0.5/(0.01*0.5+0.02*0.3+0.1*0.2)"
   ]
  }
 ],
 "metadata": {
  "kernelspec": {
   "display_name": "Python 3",
   "language": "python",
   "name": "python3"
  },
  "language_info": {
   "codemirror_mode": {
    "name": "ipython",
    "version": 3
   },
   "file_extension": ".py",
   "mimetype": "text/x-python",
   "name": "python",
   "nbconvert_exporter": "python",
   "pygments_lexer": "ipython3",
   "version": "3.7.3"
  }
 },
 "nbformat": 4,
 "nbformat_minor": 2
}
